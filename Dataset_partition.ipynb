{
 "cells": [
  {
   "cell_type": "code",
   "execution_count": 1,
   "id": "948dc859",
   "metadata": {},
   "outputs": [],
   "source": [
    "import glob\n",
    "import numpy as np\n",
    "import pandas as pd\n",
    "import os\n",
    "import shutil\n",
    "from sklearn.model_selection import train_test_split"
   ]
  },
  {
   "cell_type": "code",
   "execution_count": 2,
   "id": "268fbef9",
   "metadata": {},
   "outputs": [],
   "source": [
    "class Config:\n",
    "    def __init__(self):\n",
    "        self.workdir = \"D:/bioinformatics/python/bioinformation/机器学习/EsophagealCancerResnet/\"\n",
    "        os.chdir(self.workdir)\n",
    "        self.original_data_folder = self.workdir + \"data/\" + \"original_data/\"\n",
    "        self.available_data_folder = self.workdir + \"data/\" + \"available_data/\"\n",
    "        self.folder_classes = [\"train\", \"test\", \"ind\"]\n",
    "        if not os.path.exists(self.available_data_folder):\n",
    "            for folder_class in self.folder_classes:\n",
    "                os.makedirs(self.available_data_folder + folder_class)        "
   ]
  },
  {
   "cell_type": "code",
   "execution_count": 3,
   "id": "f9224148",
   "metadata": {},
   "outputs": [],
   "source": [
    "config = Config()"
   ]
  },
  {
   "cell_type": "markdown",
   "id": "4f01244a",
   "metadata": {},
   "source": [
    "### 划分训练集、测试集和独立检验集"
   ]
  },
  {
   "cell_type": "code",
   "execution_count": 4,
   "id": "74265d2b",
   "metadata": {},
   "outputs": [
    {
     "name": "stdout",
     "output_type": "stream",
     "text": [
      "癌症四个时期和正常数据图片的数量分别为：4383，243，3985，1102, 14302\n"
     ]
    }
   ],
   "source": [
    "# 读取数据\n",
    "cancer_t1_data_file_paths = glob.glob(config.original_data_folder + \"cancer_t1/cut_1_*.jpg\")\n",
    "cancer_t2_data_file_paths = glob.glob(config.original_data_folder + \"cancer_t2/cut_1_*.jpg\")\n",
    "cancer_t3_data_file_paths = glob.glob(config.original_data_folder + \"cancer_t3/cut_1_*.jpg\")\n",
    "cancer_t4_data_file_paths = glob.glob(config.original_data_folder + \"cancer_t4/cut_1_*.jpg\")\n",
    "normal_data_file_paths = glob.glob(config.original_data_folder + \"normal/cut_3_*.jpg\")\n",
    "t1_num, t2_num, t3_num, t4_num, normal_num = len(cancer_t1_data_file_paths), \\\n",
    "    len(cancer_t2_data_file_paths), len(cancer_t3_data_file_paths), \\\n",
    "    len(cancer_t4_data_file_paths), len(normal_data_file_paths)\n",
    "print(\"癌症四个时期和正常数据图片的数量分别为：{}，{}，{}，{}, {}\".format(\\\n",
    "                                    t1_num, t2_num, t3_num, t4_num, normal_num))"
   ]
  },
  {
   "cell_type": "code",
   "execution_count": 5,
   "id": "fb5e1462",
   "metadata": {},
   "outputs": [
    {
     "name": "stdout",
     "output_type": "stream",
     "text": [
      "所有样本数量统计：\n",
      "0    14302\n",
      "1     4383\n",
      "3     3985\n",
      "4     1102\n",
      "2      243\n",
      "dtype: int64\n",
      "正样本数量：9713\n",
      "负样本数量：14302\n",
      "合计：24015\n"
     ]
    }
   ],
   "source": [
    "# 合并数据\n",
    "cancer_all_data_file_paths = normal_data_file_paths + cancer_t1_data_file_paths + cancer_t2_data_file_paths\\\n",
    "                                + cancer_t3_data_file_paths + cancer_t4_data_file_paths\n",
    "label = [0] * normal_num + [1] * t1_num + [2] * t2_num + [3] * t3_num + [4] * t4_num\n",
    "print(\"所有样本数量统计：\")\n",
    "print(pd.Series(label).value_counts())\n",
    "print(\"正样本数量：{}\\n负样本数量：{}\\n合计：{}\".format(pd.Series(label).value_counts()[1:].sum(), \n",
    "        pd.Series(label).value_counts()[0].sum(),  pd.Series(label).value_counts().sum()))"
   ]
  },
  {
   "cell_type": "code",
   "execution_count": 6,
   "id": "f8500b98",
   "metadata": {},
   "outputs": [
    {
     "name": "stdout",
     "output_type": "stream",
     "text": [
      "训练集样本数量：16009\t测试集样本数量：4003\t独立验证集样本数量：4003\n"
     ]
    }
   ],
   "source": [
    "# 划分训练集、测试集和独立检验集\n",
    "train_and_test_x, ind_x, train_and_test_y, ind_y = train_test_split(cancer_all_data_file_paths, label,\\\n",
    "                                                                    test_size=1/6, shuffle=True, stratify=label)\n",
    "train_x, test_x, train_y, test_y = train_test_split(train_and_test_x, train_and_test_y,\\\n",
    "                                                     test_size=1/5, shuffle=True, stratify=train_and_test_y)\n",
    "print(\"训练集样本数量：{}\\t测试集样本数量：{}\\t独立验证集样本数量：{}\".format(\\\n",
    "    len(train_x), len(test_x), len(ind_x)))"
   ]
  },
  {
   "cell_type": "code",
   "execution_count": 7,
   "id": "32cce95f",
   "metadata": {},
   "outputs": [],
   "source": [
    "# 转移整理好的数据\n",
    "for index, img_path in enumerate(train_x):\n",
    "    destination_path = \"./data/available_data/train/\" + img_path.split(\"\\\\\")[-1][:-4] + \"_\" + str(train_y[index]) + '.jpg'\n",
    "    shutil.copy(img_path, destination_path)\n",
    "for index, img_path in enumerate(test_x):\n",
    "    destination_path = \"./data/available_data/test/\" + img_path.split(\"\\\\\")[-1][:-4] + \"_\" + str(test_y[index]) + '.jpg'\n",
    "    shutil.copy(img_path, destination_path)\n",
    "for index, img_path in enumerate(ind_x):\n",
    "    destination_path = \"./data/available_data/ind/\" + img_path.split(\"\\\\\")[-1][:-4] + \"_\" + str(ind_y[index]) + '.jpg'\n",
    "    shutil.copy(img_path, destination_path)"
   ]
  },
  {
   "cell_type": "code",
   "execution_count": null,
   "id": "bde0b2d3",
   "metadata": {},
   "outputs": [],
   "source": []
  },
  {
   "cell_type": "code",
   "execution_count": null,
   "id": "b7aa579b",
   "metadata": {},
   "outputs": [],
   "source": []
  },
  {
   "cell_type": "code",
   "execution_count": null,
   "id": "b4ce04b7",
   "metadata": {},
   "outputs": [],
   "source": []
  }
 ],
 "metadata": {
  "kernelspec": {
   "display_name": "Python 3 (ipykernel)",
   "language": "python",
   "name": "python3"
  },
  "language_info": {
   "codemirror_mode": {
    "name": "ipython",
    "version": 3
   },
   "file_extension": ".py",
   "mimetype": "text/x-python",
   "name": "python",
   "nbconvert_exporter": "python",
   "pygments_lexer": "ipython3",
   "version": "3.8.12"
  }
 },
 "nbformat": 4,
 "nbformat_minor": 5
}
